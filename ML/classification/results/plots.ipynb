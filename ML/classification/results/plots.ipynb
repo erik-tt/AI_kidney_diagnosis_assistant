{
 "cells": [
  {
   "cell_type": "markdown",
   "id": "1e558e05",
   "metadata": {},
   "source": [
    "# Classification Results"
   ]
  },
  {
   "cell_type": "code",
   "execution_count": null,
   "id": "7ad1f93e",
   "metadata": {},
   "outputs": [],
   "source": [
    "import seaborn as sns\n",
    "import matplotlib.pyplot as plt\n",
    "import pandas as pd\n",
    "import numpy as np\n",
    "from scipy import stats\n",
    "from statsmodels.stats.anova import AnovaRM\n",
    "import statsmodels.api as sm \n",
    "import pingouin as pg\n",
    "import scikit_posthocs as sp"
   ]
  },
  {
   "cell_type": "code",
   "execution_count": null,
   "id": "bc12c2be",
   "metadata": {},
   "outputs": [],
   "source": [
    "#ChatGPT provided method for extracting data\n",
    "from tbparse import SummaryReader\n",
    "\n",
    "relative_path = os.path.curdir\n",
    "\n",
    "reader = SummaryReader(relative_path + \"/cnnweak_['drsbru']_20250507-164647\")\n",
    "df_drsbru_acc = reader.scalars\n",
    "\n",
    "reader = SummaryReader(relative_path + \"/cnnweak_['drsprg', 'drsbru']_20250507-205216\")\n",
    "df_both_acc = reader.scalars\n",
    "\n",
    "reader = SummaryReader(relative_path + \"/cnnweak_['drsprg']_20250507-155953\")\n",
    "df_drsprg_acc = reader.scalars"
   ]
  },
  {
   "cell_type": "code",
   "execution_count": null,
   "id": "0d5d16f3",
   "metadata": {},
   "outputs": [],
   "source": [
    "df_both_acc.head()"
   ]
  },
  {
   "cell_type": "code",
   "execution_count": null,
   "id": "d434a3a9",
   "metadata": {},
   "outputs": [],
   "source": [
    "#Process data\n",
    "\n",
    "df_drsprg_acc['tag'] = df_drsprg_acc['tag'].str.replace('acc', '')\n",
    "df_drsprg_acc['radiomics'] = df_drsprg_acc['tag'].str.contains(r'RADIOMICS|rad').map({True: 'True', False: 'False'})\n",
    "df_drsprg_acc['model'] = df_drsprg_acc['tag'].str.replace(r'RADIOMICS|rad', '', regex=True)\n",
    "df_drsprg_acc['model'] = df_drsprg_acc['model'].str.strip()\n",
    "df_drsprg_acc['model'] = df_drsprg_acc['model'].str.replace(\"3D CNN +\", \"\")\n",
    "df_drsprg_acc['model'] = df_drsprg_acc['model'].str.replace(\"BASELINE\", \"2D ResNet18\")"
   ]
  },
  {
   "cell_type": "code",
   "execution_count": null,
   "id": "5858d03e",
   "metadata": {},
   "outputs": [],
   "source": [
    "fig = plt.figure(figsize=(8, 5))\n",
    "\n",
    "# Create the barplot with SD error bars\n",
    "sns.barplot(\n",
    "    data=df_drsprg_acc,\n",
    "    x='model',\n",
    "    y='value',\n",
    "    hue='radiomics',\n",
    "    palette='Purples',\n",
    "    estimator=np.mean,\n",
    "    err_kws={\"color\": \"0\", \"linewidth\": 1.5},\n",
    "    width=0.7,\n",
    "    errorbar=\"sd\", capsize=.1,\n",
    "    linewidth=1.5, edgecolor=\"0\",\n",
    ")\n",
    "\n",
    "\n",
    "#plt.xticks(rotation=45)\n",
    "plt.ylabel(\"Accuracy\")\n",
    "plt.xlabel(\"Classification Models\")\n",
    "plt.title(\"10-Fold CV Accuracies With drsprg Data\")\n",
    "plt.legend(title=\"Radiomic Features\")\n",
    "plt.grid()\n",
    "plt.ylim(0, 0.9)\n",
    "plt.tight_layout()\n",
    "plt.savefig('drsprg_accuracy.pdf', bbox_inches='tight')\n",
    "plt.show()"
   ]
  },
  {
   "cell_type": "markdown",
   "id": "b51bf32a",
   "metadata": {},
   "source": [
    "# DRSBRU"
   ]
  },
  {
   "cell_type": "code",
   "execution_count": null,
   "id": "a4c2db4e",
   "metadata": {},
   "outputs": [],
   "source": [
    "\n",
    "df_drsbru_acc['tag'] = df_drsbru_acc['tag'].str.replace('acc', '')\n",
    "df_drsbru_acc['radiomics'] = df_drsbru_acc['tag'].str.contains(r'RADIOMICS|rad').map({True: 'True', False: 'False'})\n",
    "df_drsbru_acc['model'] = df_drsbru_acc['tag'].str.replace(r'RADIOMICS|rad', '', regex=True)\n",
    "df_drsbru_acc['model'] = df_drsbru_acc['model'].str.strip()\n",
    "df_drsbru_acc['model'] = df_drsbru_acc['model'].str.replace(\"3D CNN +\", \"\")\n",
    "df_drsbru_acc['model'] = df_drsbru_acc['model'].str.replace(\"BASELINE\", \"2D ResNet18\")"
   ]
  },
  {
   "cell_type": "code",
   "execution_count": null,
   "id": "18d63377",
   "metadata": {},
   "outputs": [],
   "source": [
    "fig = plt.figure(figsize=(8, 5))\n",
    "# Create the barplot with SD error bars\n",
    "sns.barplot(\n",
    "    data=df_drsbru_acc,\n",
    "    x='model',\n",
    "    y='value',\n",
    "    hue='radiomics',\n",
    "    palette='Greens',\n",
    "    estimator=np.mean,\n",
    "    err_kws={\"color\": \"0\", \"linewidth\": 1.5},\n",
    "    width=0.7,\n",
    "    errorbar=\"sd\", capsize=.1,\n",
    "    linewidth=1.5, edgecolor=\"0\",\n",
    ")\n",
    "\n",
    "\n",
    "#plt.xticks(rotation=45)\n",
    "plt.ylabel(\"Accuracy\")\n",
    "plt.xlabel(\"Classification Models\")\n",
    "plt.title(\"10-Fold CV Accuracies With drsbru Data\")\n",
    "plt.legend(title=\"Radiomic Features\")\n",
    "plt.grid()\n",
    "plt.ylim(0, 0.9)\n",
    "plt.tight_layout()\n",
    "plt.savefig('drsbru_accuracy.pdf', bbox_inches='tight')\n",
    "plt.show()"
   ]
  },
  {
   "cell_type": "markdown",
   "id": "c668191c",
   "metadata": {},
   "source": [
    "# Both"
   ]
  },
  {
   "cell_type": "code",
   "execution_count": null,
   "id": "f6b8650e",
   "metadata": {},
   "outputs": [],
   "source": [
    "df_both_acc['tag'] = df_both_acc['tag'].str.replace('acc', '')\n",
    "df_both_acc['radiomics'] = df_both_acc['tag'].str.contains(r'RADIOMICS|rad').map({True: 'True', False: 'False'})\n",
    "df_both_acc['model'] = df_both_acc['tag'].str.replace(r'RADIOMICS|rad', '', regex=True)\n",
    "df_both_acc['model'] = df_both_acc['model'].str.strip()\n",
    "df_both_acc['model'] = df_both_acc['model'].str.replace(\"3D CNN +\", \"\")\n",
    "df_both_acc['model'] = df_both_acc['model'].str.replace(\"BASELINE\", \"2D ResNet18\").str.strip()\n",
    "df_both_acc"
   ]
  },
  {
   "cell_type": "code",
   "execution_count": null,
   "id": "c7e085b7",
   "metadata": {},
   "outputs": [],
   "source": [
    "fig = plt.figure(figsize=(8, 5))\n",
    "\n",
    "# Create the barplot with SD error bars\n",
    "sns.barplot(\n",
    "    data=df_both_acc,\n",
    "    x='model',\n",
    "    y='value',\n",
    "    hue='radiomics',\n",
    "    palette='Blues',\n",
    "    estimator=np.mean,\n",
    "    err_kws={\"color\": \"0\", \"linewidth\": 1.5},\n",
    "    width=0.7,\n",
    "    errorbar=\"sd\", capsize=.1,\n",
    "    linewidth=1.5, edgecolor=\"0\",\n",
    ")\n",
    "\n",
    "\n",
    "#plt.xticks(rotation=45)\n",
    "plt.ylabel(\"Accuracy\")\n",
    "plt.xlabel(\"Classification Models\")\n",
    "plt.title(\"10-Fold CV Accuracies With drsbru and drsprg Data\")\n",
    "plt.legend(title=\"Radiomic Features\")\n",
    "plt.grid()\n",
    "plt.ylim(0, 0.9)\n",
    "plt.tight_layout()\n",
    "plt.savefig('both_accuracy.pdf', bbox_inches='tight')\n",
    "plt.show()"
   ]
  },
  {
   "cell_type": "markdown",
   "id": "d5d5c3bb",
   "metadata": {},
   "source": [
    "Violin Plot with both datasets"
   ]
  },
  {
   "cell_type": "code",
   "execution_count": null,
   "id": "8dd7e4c0",
   "metadata": {},
   "outputs": [],
   "source": [
    "fig = plt.figure(figsize=(8, 5))\n",
    "sns.violinplot(\n",
    "    data=df_both_acc,\n",
    "    palette='Blues',\n",
    "    x='model',\n",
    "    y='value',\n",
    "    hue='radiomics',\n",
    "    split=True,\n",
    ")\n",
    "plt.title(\"10-Fold CV Accuracies With drsbru and drsprg Data\")\n",
    "plt.ylabel(\"Accuracy\")\n",
    "plt.xlabel(\"Model\")\n",
    "plt.grid()\n",
    "plt.savefig('violin_combined.pdf', bbox_inches='tight')\n",
    "plt.show()"
   ]
  },
  {
   "cell_type": "markdown",
   "id": "726ac3c4",
   "metadata": {},
   "source": [
    "# Checking for normally distributed data"
   ]
  },
  {
   "cell_type": "code",
   "execution_count": null,
   "id": "822711ba",
   "metadata": {},
   "outputs": [],
   "source": [
    "df_both_stat = df_both_acc[df_both_acc[\"radiomics\"] == \"False\"].pivot(index=\"step\", columns=\"model\", values=\"value\")\n",
    "df_both_stat"
   ]
  },
  {
   "cell_type": "code",
   "execution_count": null,
   "id": "f295dbc6",
   "metadata": {},
   "outputs": [],
   "source": [
    "for model in df_both_stat.loc[:, df_both_stat.columns != \"Step\"]:\n",
    "    result = stats.shapiro(df_both_stat[model])\n",
    "    print(model)\n",
    "    print(result)"
   ]
  },
  {
   "cell_type": "code",
   "execution_count": null,
   "id": "06f301c2",
   "metadata": {},
   "outputs": [],
   "source": [
    "fig, axes = plt.subplots(2, 3, figsize=(15, 10))\n",
    "axes = axes.flatten()\n",
    "for i in range(6):\n",
    "        model = df_both_stat.columns[i]\n",
    "        stats.probplot(df_both_stat[model], dist=\"norm\", plot=axes[i])\n",
    "        axes[i].set_title(f\"Q-Q Plot: {model}\")\n",
    "plt.tight_layout()\n",
    "plt.savefig('QQ_plot_class.pdf', bbox_inches='tight')"
   ]
  },
  {
   "cell_type": "code",
   "execution_count": null,
   "id": "49e711c3",
   "metadata": {},
   "outputs": [],
   "source": [
    "df_both_long = df_both_acc\n",
    "rm_anova = pg.rm_anova(df_both_long, dv='value', subject='step', within='model', correction=True).round(3)\n",
    "rm_anova"
   ]
  },
  {
   "cell_type": "code",
   "execution_count": null,
   "id": "e0fb40c4",
   "metadata": {},
   "outputs": [],
   "source": [
    "bonferroni = pg.pairwise_tests(dv='value', within='model', subject='step', padjust='bonf', data=df_both_long)\n",
    "bonferroni"
   ]
  },
  {
   "cell_type": "code",
   "execution_count": null,
   "id": "669e7443",
   "metadata": {},
   "outputs": [],
   "source": []
  }
 ],
 "metadata": {
  "kernelspec": {
   "display_name": "AI-diagnostic",
   "language": "python",
   "name": "python3"
  },
  "language_info": {
   "codemirror_mode": {
    "name": "ipython",
    "version": 3
   },
   "file_extension": ".py",
   "mimetype": "text/x-python",
   "name": "python",
   "nbconvert_exporter": "python",
   "pygments_lexer": "ipython3",
   "version": "3.9.21"
  }
 },
 "nbformat": 4,
 "nbformat_minor": 5
}
