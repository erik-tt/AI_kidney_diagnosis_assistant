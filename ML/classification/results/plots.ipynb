{
 "cells": [
  {
   "cell_type": "markdown",
   "id": "1e558e05",
   "metadata": {},
   "source": [
    "# Classification Results"
   ]
  },
  {
   "cell_type": "code",
   "execution_count": null,
   "id": "7ad1f93e",
   "metadata": {},
   "outputs": [],
   "source": [
    "import seaborn as sns\n",
    "import matplotlib.pyplot as plt\n",
    "import pandas as pd\n",
    "import numpy as np\n",
    "from scipy import stats\n",
    "from statsmodels.stats.anova import AnovaRM\n",
    "import statsmodels.api as sm \n",
    "import pingouin as pg\n",
    "import scikit_posthocs as sp\n",
    "import os"
   ]
  },
  {
   "cell_type": "code",
   "execution_count": null,
   "id": "bc12c2be",
   "metadata": {},
   "outputs": [],
   "source": [
    "#ChatGPT provided method for extracting data\n",
    "from tbparse import SummaryReader\n",
    "\n",
    "relative_path = os.path.curdir\n",
    "\n",
    "reader = SummaryReader(relative_path + \"/cnnweak_['drsbru']_20250515-180608\")\n",
    "df_drsbru_acc = reader.scalars\n",
    "\n",
    "reader = SummaryReader(relative_path + \"/cnnweak_['drsprg', 'drsbru']_20250515-181939\")\n",
    "df_both_acc = reader.scalars\n",
    "df_both_pr = reader.text\n",
    "\n",
    "reader = SummaryReader(relative_path + \"/cnnweak_['drsprg']_20250515-174725\")\n",
    "df_drsprg_acc = reader.scalars"
   ]
  },
  {
   "cell_type": "code",
   "execution_count": null,
   "id": "0d5d16f3",
   "metadata": {},
   "outputs": [],
   "source": [
    "df_both_acc.head()"
   ]
  },
  {
   "cell_type": "code",
   "execution_count": null,
   "id": "d434a3a9",
   "metadata": {},
   "outputs": [],
   "source": [
    "#Process data\n",
    "\n",
    "df_drsprg_acc['tag'] = df_drsprg_acc['tag'].str.replace('acc', '')\n",
    "df_drsprg_acc['radiomics'] = df_drsprg_acc['tag'].str.contains(r'RADIOMICS|rad').map({True: 'True', False: 'False'})\n",
    "df_drsprg_acc['model'] = df_drsprg_acc['tag'].str.replace(r'RADIOMICS|rad', '', regex=True)\n",
    "df_drsprg_acc['model'] = df_drsprg_acc['model'].str.replace(\"3D CNN +\", \"\")\n",
    "df_drsprg_acc['model'] = df_drsprg_acc['model'].str.replace(\"BASELINE\", \"2D ResNet18\")\n",
    "df_drsprg_acc['model'] = df_drsprg_acc['model'].str.strip()\n",
    "\n",
    "#Total highest accuracy\n",
    "model_order = [\"2D ResNet18\", \"NN\", \"KNN\", \"SVM\", \"ET\", \"RF\", \"Ensemble\"]"
   ]
  },
  {
   "cell_type": "code",
   "execution_count": null,
   "id": "5858d03e",
   "metadata": {},
   "outputs": [],
   "source": [
    "fig = plt.figure(figsize=(8, 5))\n",
    "\n",
    "# Create the barplot with SD error bars\n",
    "sns.barplot(\n",
    "    data=df_drsprg_acc,\n",
    "    x='model',\n",
    "    y='value',\n",
    "    hue='radiomics',\n",
    "    palette='Purples',\n",
    "    estimator=np.mean,\n",
    "    err_kws={\"color\": \"0\", \"linewidth\": 1.5},\n",
    "    width=0.7,\n",
    "    errorbar=\"sd\", capsize=.1,\n",
    "    linewidth=1.5, edgecolor=\"0\",\n",
    "    order=model_order\n",
    ")\n",
    "\n",
    "\n",
    "#plt.xticks(rotation=45)\n",
    "plt.ylabel(\"Accuracy\")\n",
    "plt.xlabel(\"Classification Models\")\n",
    "plt.title(\"10-Fold CV Accuracies With drsprg Data\")\n",
    "plt.legend(title=\"Radiomic Features\")\n",
    "plt.grid()\n",
    "plt.ylim(0, 0.9)\n",
    "plt.tight_layout()\n",
    "plt.savefig('drsprg_accuracy.pdf', bbox_inches='tight')\n",
    "plt.show()"
   ]
  },
  {
   "cell_type": "markdown",
   "id": "b51bf32a",
   "metadata": {},
   "source": [
    "# DRSBRU"
   ]
  },
  {
   "cell_type": "code",
   "execution_count": null,
   "id": "a4c2db4e",
   "metadata": {},
   "outputs": [],
   "source": [
    "\n",
    "df_drsbru_acc['tag'] = df_drsbru_acc['tag'].str.replace('acc', '')\n",
    "df_drsbru_acc['radiomics'] = df_drsbru_acc['tag'].str.contains(r'RADIOMICS|rad').map({True: 'True', False: 'False'})\n",
    "df_drsbru_acc['model'] = df_drsbru_acc['tag'].str.replace(r'RADIOMICS|rad', '', regex=True)\n",
    "df_drsbru_acc['model'] = df_drsbru_acc['model'].str.replace(\"3D CNN +\", \"\")\n",
    "df_drsbru_acc['model'] = df_drsbru_acc['model'].str.replace(\"BASELINE\", \"2D ResNet18\")\n",
    "df_drsbru_acc['model'] = df_drsbru_acc['model'].str.strip()"
   ]
  },
  {
   "cell_type": "code",
   "execution_count": null,
   "id": "18d63377",
   "metadata": {},
   "outputs": [],
   "source": [
    "fig = plt.figure(figsize=(8, 5))\n",
    "# Create the barplot with SD error bars\n",
    "sns.barplot(\n",
    "    data=df_drsbru_acc,\n",
    "    x='model',\n",
    "    y='value',\n",
    "    hue='radiomics',\n",
    "    palette='Greens',\n",
    "    estimator=np.mean,\n",
    "    err_kws={\"color\": \"0\", \"linewidth\": 1.5},\n",
    "    width=0.7,\n",
    "    errorbar=\"sd\", capsize=.1,\n",
    "    linewidth=1.5, edgecolor=\"0\",\n",
    "    order=model_order\n",
    ")\n",
    "\n",
    "\n",
    "#plt.xticks(rotation=45)\n",
    "plt.ylabel(\"Accuracy\")\n",
    "plt.xlabel(\"Classification Models\")\n",
    "plt.title(\"10-Fold CV Accuracies With drsbru Data\")\n",
    "plt.legend(title=\"Radiomic Features\")\n",
    "plt.grid()\n",
    "plt.ylim(0, 0.9)\n",
    "plt.tight_layout()\n",
    "plt.savefig('drsbru_accuracy.pdf', bbox_inches='tight')\n",
    "plt.show()"
   ]
  },
  {
   "cell_type": "markdown",
   "id": "c668191c",
   "metadata": {},
   "source": [
    "# Both"
   ]
  },
  {
   "cell_type": "code",
   "execution_count": null,
   "id": "f6b8650e",
   "metadata": {},
   "outputs": [],
   "source": [
    "df_both_acc['tag'] = df_both_acc['tag'].str.replace('acc', '')\n",
    "df_both_acc['radiomics'] = df_both_acc['tag'].str.contains(r'RADIOMICS|rad').map({True: 'True', False: 'False'})\n",
    "df_both_acc['model'] = df_both_acc['tag'].str.replace(r'RADIOMICS|rad', '', regex=True)\n",
    "df_both_acc['model'] = df_both_acc['model'].str.replace(\"3D CNN +\", \"\")\n",
    "df_both_acc['model'] = df_both_acc['model'].str.replace(\"BASELINE\", \"2D ResNet18\").str.strip()\n",
    "df_both_acc['model'] = df_both_acc['model'].str.strip()\n",
    "df_both_acc"
   ]
  },
  {
   "cell_type": "code",
   "execution_count": null,
   "id": "c7e085b7",
   "metadata": {},
   "outputs": [],
   "source": [
    "fig = plt.figure(figsize=(8, 5))\n",
    "\n",
    "# Create the barplot with SD error bars\n",
    "sns.barplot(\n",
    "    data=df_both_acc,\n",
    "    x='model',\n",
    "    y='value',\n",
    "    hue='radiomics',\n",
    "    palette='Blues',\n",
    "    estimator=np.mean,\n",
    "    err_kws={\"color\": \"0\", \"linewidth\": 1.5},\n",
    "    width=0.7,\n",
    "    errorbar=\"sd\", capsize=.1,\n",
    "    linewidth=1.5, edgecolor=\"0\",\n",
    "    order=model_order\n",
    ")\n",
    "\n",
    "\n",
    "#plt.xticks(rotation=45)\n",
    "plt.ylabel(\"Accuracy\")\n",
    "plt.xlabel(\"Classification Models\")\n",
    "plt.title(\"10-Fold CV Accuracies With drsbru and drsprg Data\")\n",
    "plt.legend(title=\"Radiomic Features\")\n",
    "plt.grid()\n",
    "plt.ylim(0, 0.9)\n",
    "plt.tight_layout()\n",
    "plt.savefig('both_accuracy.pdf', bbox_inches='tight')\n",
    "plt.show()"
   ]
  },
  {
   "cell_type": "markdown",
   "id": "d5d5c3bb",
   "metadata": {},
   "source": [
    "Violin Plot with both datasets"
   ]
  },
  {
   "cell_type": "code",
   "execution_count": null,
   "id": "8dd7e4c0",
   "metadata": {},
   "outputs": [],
   "source": [
    "fig = plt.figure(figsize=(8, 5))\n",
    "sns.violinplot(\n",
    "    data=df_both_acc,\n",
    "    palette='Blues',\n",
    "    x='model',\n",
    "    y='value',\n",
    "    hue='radiomics',\n",
    "    split=True,\n",
    "    order=model_order\n",
    ")\n",
    "plt.title(\"10-Fold CV Accuracies With drsbru and drsprg Data\")\n",
    "plt.ylabel(\"Accuracy\")\n",
    "plt.xlabel(\"Model\")\n",
    "plt.grid()\n",
    "plt.savefig('violin_combined.pdf', bbox_inches='tight')\n",
    "plt.show()"
   ]
  },
  {
   "cell_type": "markdown",
   "id": "726ac3c4",
   "metadata": {},
   "source": [
    "# Checking for normally distributed data"
   ]
  },
  {
   "cell_type": "code",
   "execution_count": null,
   "id": "822711ba",
   "metadata": {},
   "outputs": [],
   "source": [
    "df_both_stat = df_both_acc[df_both_acc[\"radiomics\"] == \"False\"].pivot(index=\"step\", columns=\"model\", values=\"value\")\n",
    "df_both_stat"
   ]
  },
  {
   "cell_type": "code",
   "execution_count": null,
   "id": "f295dbc6",
   "metadata": {},
   "outputs": [],
   "source": [
    "for model in df_both_stat.loc[:, df_both_stat.columns != \"Step\"]:\n",
    "    result = stats.shapiro(df_both_stat[model])\n",
    "    print(model)\n",
    "    print(result)"
   ]
  },
  {
   "cell_type": "code",
   "execution_count": null,
   "id": "06f301c2",
   "metadata": {},
   "outputs": [],
   "source": [
    "fig, axes = plt.subplots(3, 3, figsize=(15, 10))\n",
    "axes = axes.flatten()\n",
    "for i in range(7):\n",
    "        model = df_both_stat.columns[i]\n",
    "        stats.probplot(df_both_stat[model], dist=\"norm\", plot=axes[i])\n",
    "        axes[i].set_title(f\"Q-Q Plot: {model}\")\n",
    "\n",
    "# Hide unused axes (last two)\n",
    "for j in range(7, 9):\n",
    "    fig.delaxes(axes[j])\n",
    "\n",
    "plt.tight_layout()\n",
    "plt.savefig('QQ_plot_class.pdf', bbox_inches='tight')"
   ]
  },
  {
   "cell_type": "markdown",
   "id": "512c8ccc",
   "metadata": {},
   "source": [
    "## Friedman"
   ]
  },
  {
   "cell_type": "code",
   "execution_count": null,
   "id": "10555a9c",
   "metadata": {},
   "outputs": [],
   "source": [
    "res = stats.friedmanchisquare(df_both_stat[\"2D ResNet18\"], df_both_stat[\"ET\"], df_both_stat[\"Ensemble\"], df_both_stat[\"KNN\"], df_both_stat[\"NN\"], df_both_stat[\"RF\"], df_both_stat[\"SVM\"])\n",
    "print(res)"
   ]
  },
  {
   "cell_type": "markdown",
   "id": "1187e4c1",
   "metadata": {},
   "source": [
    "### Nemenyi test"
   ]
  },
  {
   "cell_type": "code",
   "execution_count": null,
   "id": "222c3eba",
   "metadata": {},
   "outputs": [],
   "source": [
    "sp.posthoc_nemenyi_friedman(df_both_stat)"
   ]
  },
  {
   "cell_type": "markdown",
   "id": "86056107",
   "metadata": {},
   "source": [
    "## RM ANOVA"
   ]
  },
  {
   "cell_type": "code",
   "execution_count": null,
   "id": "49e711c3",
   "metadata": {},
   "outputs": [],
   "source": [
    "df_both_long = df_both_acc\n",
    "rm_anova = pg.rm_anova(df_both_long, dv='value', subject='step', within='model', correction=True).round(3)\n",
    "rm_anova"
   ]
  },
  {
   "cell_type": "code",
   "execution_count": null,
   "id": "e0fb40c4",
   "metadata": {},
   "outputs": [],
   "source": [
    "bonferroni = pg.pairwise_tests(dv='value', within='model', subject='step', padjust='bonf', data=df_both_long)\n",
    "bonferroni"
   ]
  },
  {
   "cell_type": "markdown",
   "id": "6f60436f",
   "metadata": {},
   "source": [
    "# MEAN VALUES - DRSPRG"
   ]
  },
  {
   "cell_type": "code",
   "execution_count": null,
   "id": "669e7443",
   "metadata": {},
   "outputs": [],
   "source": [
    "mean_std_drsprg = df_drsprg_acc.groupby(['radiomics', 'model'])['value'].agg(['mean', 'std']).reset_index()\n",
    "mean_std_drsprg['mean'] = mean_std_drsprg['mean'].round(2)\n",
    "mean_std_drsprg['std'] = mean_std_drsprg['std'].round(2)\n",
    "mean_std_drsprg"
   ]
  },
  {
   "cell_type": "markdown",
   "id": "4d3285c6",
   "metadata": {},
   "source": [
    "# MEAN VALUES - DRSBRU"
   ]
  },
  {
   "cell_type": "code",
   "execution_count": null,
   "id": "b7c1942b",
   "metadata": {},
   "outputs": [],
   "source": [
    "mean_std_drsbru = df_drsbru_acc.groupby(['radiomics', 'model'])['value'].agg(['mean', 'std']).reset_index()\n",
    "mean_std_drsbru['mean'] = mean_std_drsbru['mean'].round(2)\n",
    "mean_std_drsbru['std'] = mean_std_drsbru['std'].round(2)\n",
    "mean_std_drsbru"
   ]
  },
  {
   "cell_type": "markdown",
   "id": "a0836b07",
   "metadata": {},
   "source": [
    "# MEAN VALUES - COMBINED"
   ]
  },
  {
   "cell_type": "code",
   "execution_count": null,
   "id": "b552da9b",
   "metadata": {},
   "outputs": [],
   "source": [
    "mean_std_both = df_both_acc.groupby(['radiomics', 'model'])['value'].agg(['mean', 'std']).reset_index()\n",
    "mean_std_both['mean'] = mean_std_both['mean'].round(2)\n",
    "mean_std_both['std'] = mean_std_both['std'].round(2)\n",
    "mean_std_both"
   ]
  },
  {
   "cell_type": "code",
   "execution_count": null,
   "id": "c58a8fb8",
   "metadata": {},
   "outputs": [],
   "source": [
    "df_both_acc"
   ]
  },
  {
   "cell_type": "code",
   "execution_count": null,
   "id": "d1b9319a",
   "metadata": {},
   "outputs": [],
   "source": [
    "df_both_pr['tag'] = df_both_pr['tag'].str.replace('acc', '')\n",
    "df_both_pr['radiomics'] = df_both_pr['tag'].str.contains(r'RADIOMICS|rad').map({True: 'True', False: 'False'})\n",
    "df_both_pr['precision'] = df_both_pr['tag'].str.contains(r'precision').map({True: 'True', False: 'False'})\n",
    "df_both_pr['model'] = df_both_pr['tag'].str.replace(r'RADIOMICS|rad|precision|recall', '', regex=True)\n",
    "df_both_pr['model'] = df_both_pr['model'].str.replace(r'(B3D CNN \\+|3D CNN \\+)', '', regex=True)\n",
    "df_both_pr['model'] = df_both_pr['model'].str.strip()\n",
    "df_both_pr"
   ]
  },
  {
   "cell_type": "code",
   "execution_count": null,
   "id": "85d87671",
   "metadata": {},
   "outputs": [],
   "source": [
    "models_include = [\"Baseline\", \"Ensemble\", \"NN\", \"SVM\"]\n",
    "df_both_filter = df_both_pr[\n",
    "    (df_both_pr['radiomics'] == 'False') &\n",
    "    (df_both_pr['model'].isin(models_include))\n",
    "    ]"
   ]
  },
  {
   "cell_type": "code",
   "execution_count": null,
   "id": "bb1ae7d4",
   "metadata": {},
   "outputs": [],
   "source": [
    "df_both_filter['value'] = (\n",
    "    df_both_filter['value']\n",
    "    .str.replace(r'[\\[\\]]', '', regex=True)    # Remove square brackets\n",
    "    .str.replace(r'\\s{2,}', ' ', regex=True)   # Replace multiple spaces with single space\n",
    "    .str.strip()                               # Remove leading/trailing spaces\n",
    ")\n",
    "\n",
    "df_both_filter[['1', '2', '3', '4', '5']] = df_both_filter['value'].str.split(\" \", expand=True).astype(float)\n"
   ]
  },
  {
   "cell_type": "code",
   "execution_count": null,
   "id": "948b9047",
   "metadata": {},
   "outputs": [],
   "source": [
    "df_grouped = (\n",
    "    df_both_filter\n",
    "    .groupby(['radiomics', 'precision', 'model'])[['1', '2', '3', '4', '5']]\n",
    "    .mean()\n",
    "    .round(2)\n",
    "    .reset_index()\n",
    ")\n",
    "df_grouped\n"
   ]
  },
  {
   "cell_type": "code",
   "execution_count": null,
   "id": "a51bb1b3",
   "metadata": {},
   "outputs": [],
   "source": [
    "confusion_matrix_ensemble = [\n",
    "    [28, 21, 2, 0, 0],\n",
    "    [8, 54, 12, 0, 0],\n",
    "    [2, 21, 22, 1, 0],\n",
    "    [0, 1, 4, 11, 2],\n",
    "    [0, 0, 0, 1, 10]\n",
    "]\n",
    "\n",
    "confusion_matrix_ensemble_df = pd.DataFrame(confusion_matrix_ensemble, range(1, 6), range(1,6))\n",
    "\n",
    "sns.heatmap(confusion_matrix_ensemble_df, annot=True, annot_kws={\"size\": 12}, cmap='Blues', cbar=False) # font size\n",
    "plt.title(\"Ensemble Model Validation Predictions Across 10 Folds\")\n",
    "plt.ylabel(\"True\")\n",
    "plt.xlabel(\"Predicted\")\n",
    "\n",
    "plt.savefig('ensemble_confusion_matrix.pdf', bbox_inches='tight')\n",
    "plt.show()\n",
    "\n"
   ]
  },
  {
   "cell_type": "code",
   "execution_count": null,
   "id": "3d7889c0",
   "metadata": {},
   "outputs": [],
   "source": [
    "confusion_matrix_nn = [\n",
    "    [21,  29, 1, 0, 0],\n",
    "    [11, 54, 8, 0, 1],\n",
    "    [3, 24, 15, 4, 0],\n",
    "    [1,1,6,5,5],\n",
    "    [0,0,0,5,6]\n",
    "]\n",
    "\n",
    "confusion_matrix_nn_df = pd.DataFrame(confusion_matrix_nn, range(1, 6), range(1,6))\n",
    "\n",
    "sns.heatmap(confusion_matrix_nn_df, annot=True, annot_kws={\"size\": 12}, cmap='Blues', cbar=False) # font size\n",
    "plt.title(\"Neural Network Validation Predictions Across 10 Folds\")\n",
    "plt.ylabel(\"True\")\n",
    "plt.xlabel(\"Predicted\")\n",
    "\n",
    "plt.savefig('nn_confusion_matrix.pdf', bbox_inches='tight')\n",
    "plt.show()"
   ]
  },
  {
   "cell_type": "code",
   "execution_count": null,
   "id": "cbe0d397",
   "metadata": {},
   "outputs": [],
   "source": [
    "confusion_matrix_2d_resnet = [\n",
    "    [17,34,0,0,0],\n",
    "    [13,53,8,0,0],\n",
    "    [3,19,17,3,4],\n",
    "    [0,0,6,6,6],\n",
    "    [1,0,2,4,4],\n",
    "]\n",
    "\n",
    "confusion_matrix_2dresnet_df = pd.DataFrame(confusion_matrix_2d_resnet, range(1, 6), range(1,6))\n",
    "\n",
    "sns.heatmap(confusion_matrix_2dresnet_df, annot=True, annot_kws={\"size\": 12}, cmap='Blues', cbar=False) # font size\n",
    "plt.title(\"2D ResNet18 Validation Predictions Across 10 Folds\")\n",
    "plt.ylabel(\"True\")\n",
    "plt.xlabel(\"Predicted\")\n",
    "\n",
    "plt.savefig('2dresnet_confusion_matrix.pdf', bbox_inches='tight')\n",
    "plt.show()"
   ]
  },
  {
   "cell_type": "code",
   "execution_count": null,
   "id": "a12a3acc",
   "metadata": {},
   "outputs": [],
   "source": [
    "confusion_matrix_svm = [\n",
    "    [26,23,2,0,0],\n",
    "    [7,59,7,1,0],\n",
    "    [1,19,25,1,0],\n",
    "    [0,1,5,11,1],\n",
    "    [0,0,0,2,9]\n",
    "]\n",
    "\n",
    "\n",
    "confusion_matrix_svm_df = pd.DataFrame(confusion_matrix_svm, range(1, 6), range(1,6))\n",
    "\n",
    "sns.heatmap(confusion_matrix_svm_df, annot=True, annot_kws={\"size\": 12}, cmap='Blues', cbar=False) # font size\n",
    "plt.title(\"SVM Validation Predictions Across 10 Folds\")\n",
    "plt.ylabel(\"True\")\n",
    "plt.xlabel(\"Predicted\")\n",
    "\n",
    "plt.savefig('svm_confusion_matrix.pdf', bbox_inches='tight')\n",
    "plt.show()"
   ]
  }
 ],
 "metadata": {
  "kernelspec": {
   "display_name": "AI-diagnostic",
   "language": "python",
   "name": "python3"
  },
  "language_info": {
   "codemirror_mode": {
    "name": "ipython",
    "version": 3
   },
   "file_extension": ".py",
   "mimetype": "text/x-python",
   "name": "python",
   "nbconvert_exporter": "python",
   "pygments_lexer": "ipython3",
   "version": "3.9.21"
  }
 },
 "nbformat": 4,
 "nbformat_minor": 5
}
