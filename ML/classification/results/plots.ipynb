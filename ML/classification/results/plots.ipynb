{
 "cells": [
  {
   "cell_type": "markdown",
   "id": "1e558e05",
   "metadata": {},
   "source": [
    "# Classification Results"
   ]
  },
  {
   "cell_type": "code",
   "execution_count": null,
   "id": "7ad1f93e",
   "metadata": {},
   "outputs": [],
   "source": [
    "import seaborn as sns\n",
    "import matplotlib.pyplot as plt\n",
    "import pandas as pd\n",
    "import numpy as np\n",
    "from scipy import stats\n",
    "from statsmodels.stats.anova import AnovaRM\n",
    "import statsmodels.api as sm \n",
    "import pingouin as pg\n",
    "#import scikit_posthocs as sp"
   ]
  },
  {
   "cell_type": "code",
   "execution_count": null,
   "id": "1f7b7b05",
   "metadata": {},
   "outputs": [],
   "source": [
    "#ChatGPT provided method for extracting data\n",
    "from tbparse import SummaryReader\n",
    "\n",
    "reader = SummaryReader(\"C:/Users/mlovh/OneDrive/Dokumenter/V2025/AI_kidney_diagnosis_assistant\\ML/classification/results\\cnnweak_['drsbru']_20250507-164647\")\n",
    "df_drsbru_acc = reader.scalars\n",
    "\n",
    "reader = SummaryReader(\"C:/Users/mlovh/OneDrive/Dokumenter/V2025/AI_kidney_diagnosis_assistant\\ML/classification/results\\cnnweak_['drsprg', 'drsbru']_20250507-205216\")\n",
    "df_both_acc = reader.scalars\n",
    "\n",
    "reader = SummaryReader(\"C:/Users/mlovh/OneDrive/Dokumenter/V2025/AI_kidney_diagnosis_assistant\\ML/classification/results\\cnnweak_['drsprg']_20250507-155953\")\n",
    "df_drsprg_acc = reader.scalars"
   ]
  },
  {
   "cell_type": "code",
   "execution_count": null,
   "id": "bc12c2be",
   "metadata": {},
   "outputs": [],
   "source": [
    "#ChatGPT provided method for extracting data\n",
    "from tbparse import SummaryReader\n",
    "\n",
    "reader = SummaryReader(\"/Users/eriktorvbraten/Dev/NTNU/Master/AI_kidney_diagnosis_assistant/ML/classification/results/cnnweak_['drsbru']_20250507-164647\")\n",
    "df_drsbru_acc = reader.scalars\n",
    "\n",
    "reader = SummaryReader(\"/Users/eriktorvbraten/Dev/NTNU/Master/AI_kidney_diagnosis_assistant/ML/classification/results/cnnweak_['drsprg', 'drsbru']_20250507-205216\")\n",
    "df_both_acc = reader.scalars\n",
    "\n",
    "reader = SummaryReader(\"/Users/eriktorvbraten/Dev/NTNU/Master/AI_kidney_diagnosis_assistant/ML/classification/results/cnnweak_['drsprg']_20250507-155953\")\n",
    "df_drsprg_acc = reader.scalars"
   ]
  },
  {
   "cell_type": "code",
   "execution_count": null,
   "id": "0d5d16f3",
   "metadata": {},
   "outputs": [],
   "source": [
    "df_drsprg_acc.head()"
   ]
  },
  {
   "cell_type": "code",
   "execution_count": null,
   "id": "d434a3a9",
   "metadata": {},
   "outputs": [],
   "source": [
    "#Process data\n",
    "\n",
    "df_drsprg_acc['tag'] = df_drsprg_acc['tag'].str.replace('acc', '')\n",
    "df_drsprg_acc['radiomics'] = df_drsprg_acc['tag'].str.contains(r'RADIOMICS|rad').map({True: 'True', False: 'False'})\n",
    "df_drsprg_acc['model'] = df_drsprg_acc['tag'].str.replace(r'RADIOMICS|rad', '', regex=True)\n",
    "df_drsprg_acc['model'] = df_drsprg_acc['model'].str.strip()\n",
    "df_drsprg_acc['model'] = df_drsprg_acc['model'].str.replace(\"3D CNN +\", \"\")\n",
    "df_drsprg_acc['model'] = df_drsprg_acc['model'].str.replace(\"BASELINE\", \"2D ResNet18\")"
   ]
  },
  {
   "cell_type": "code",
   "execution_count": null,
   "id": "d9172514",
   "metadata": {},
   "outputs": [],
   "source": [
    "# CHATII <3\n",
    "\n",
    "results_summary = df_drsprg_acc.groupby(['radiomics', 'model'])['value'].agg(['mean', 'std']).reset_index()\n",
    "\n",
    "results_summary['mean'] = results_summary['mean'].round(2)\n",
    "results_summary['std'] = results_summary['std'].round(2)\n",
    "\n",
    "print(results_summary)\n"
   ]
  },
  {
   "cell_type": "code",
   "execution_count": null,
   "id": "5858d03e",
   "metadata": {},
   "outputs": [],
   "source": [
    "fig = plt.figure(figsize=(8, 5))\n",
    "\n",
    "# Create the barplot with SD error bars\n",
    "sns.barplot(\n",
    "    data=df_drsprg_acc,\n",
    "    x='model',\n",
    "    y='value',\n",
    "    hue='radiomics',\n",
    "    palette='Blues',\n",
    "    estimator=np.mean,\n",
    "    err_kws={\"color\": \"0\", \"linewidth\": 1.5},\n",
    "    width=0.7,\n",
    "    errorbar=\"sd\", capsize=.1,\n",
    "    linewidth=1.5, edgecolor=\"0\",\n",
    ")\n",
    "\n",
    "\n",
    "#plt.xticks(rotation=45)\n",
    "plt.ylabel(\"Accuracy\")\n",
    "plt.xlabel(\"Classification Models\")\n",
    "plt.title(\"10-Fold CV Accuracies With drsprg Data\")\n",
    "plt.legend(title=\"Radiomic Features\")\n",
    "plt.grid()\n",
    "plt.tight_layout()\n",
    "plt.savefig('drsprg_accuracy.pdf', bbox_inches='tight')\n",
    "plt.show()"
   ]
  },
  {
   "cell_type": "markdown",
   "id": "b51bf32a",
   "metadata": {},
   "source": [
    "# DRSBRU"
   ]
  },
  {
   "cell_type": "code",
   "execution_count": null,
   "id": "a4c2db4e",
   "metadata": {},
   "outputs": [],
   "source": [
    "\n",
    "df_drsbru_acc['tag'] = df_drsbru_acc['tag'].str.replace('acc', '')\n",
    "df_drsbru_acc['radiomics'] = df_drsbru_acc['tag'].str.contains(r'RADIOMICS|rad').map({True: 'True', False: 'False'})\n",
    "df_drsbru_acc['model'] = df_drsbru_acc['tag'].str.replace(r'RADIOMICS|rad', '', regex=True)\n",
    "df_drsbru_acc['model'] = df_drsbru_acc['model'].str.strip()\n",
    "df_drsbru_acc['model'] = df_drsbru_acc['model'].str.replace(\"3D CNN +\", \"\")\n",
    "df_drsbru_acc['model'] = df_drsbru_acc['model'].str.replace(\"BASELINE\", \"2D ResNet18\")"
   ]
  },
  {
   "cell_type": "code",
   "execution_count": null,
   "id": "7a4ba762",
   "metadata": {},
   "outputs": [],
   "source": [
    "# CHATII <3\n",
    "\n",
    "results_summary = df_drsbru_acc.groupby(['radiomics', 'model'])['value'].agg(['mean', 'std']).reset_index()\n",
    "\n",
    "results_summary['mean'] = results_summary['mean'].round(2)\n",
    "results_summary['std'] = results_summary['std'].round(2)\n",
    "\n",
    "print(results_summary)\n"
   ]
  },
  {
   "cell_type": "code",
   "execution_count": null,
   "id": "18d63377",
   "metadata": {},
   "outputs": [],
   "source": [
    "fig = plt.figure(figsize=(8, 5))\n",
    "# Create the barplot with SD error bars\n",
    "sns.barplot(\n",
    "    data=df_drsbru_acc,\n",
    "    x='model',\n",
    "    y='value',\n",
    "    hue='radiomics',\n",
    "    palette='Greens',\n",
    "    estimator=np.mean,\n",
    "    err_kws={\"color\": \"0\", \"linewidth\": 1.5},\n",
    "    width=0.7,\n",
    "    errorbar=\"sd\", capsize=.1,\n",
    "    linewidth=1.5, edgecolor=\"0\",\n",
    ")\n",
    "\n",
    "\n",
    "#plt.xticks(rotation=45)\n",
    "plt.ylabel(\"Accuracy\")\n",
    "plt.xlabel(\"Classification Models\")\n",
    "plt.title(\"10-Fold CV Accuracies With drsbru Data\")\n",
    "plt.legend(title=\"Radiomic Features\")\n",
    "plt.grid()\n",
    "plt.tight_layout()\n",
    "plt.savefig('drsbru_accuracy.pdf', bbox_inches='tight')\n",
    "plt.show()"
   ]
  },
  {
   "cell_type": "markdown",
   "id": "c668191c",
   "metadata": {},
   "source": [
    "# Both"
   ]
  },
  {
   "cell_type": "code",
   "execution_count": null,
   "id": "f6b8650e",
   "metadata": {},
   "outputs": [],
   "source": [
    "df_both_acc['tag'] = df_both_acc['tag'].str.replace('acc', '')\n",
    "df_both_acc['radiomics'] = df_both_acc['tag'].str.contains(r'RADIOMICS|rad').map({True: 'True', False: 'False'})\n",
    "df_both_acc['model'] = df_both_acc['tag'].str.replace(r'RADIOMICS|rad', '', regex=True)\n",
    "df_both_acc['model'] = df_both_acc['model'].str.strip()\n",
    "df_both_acc['model'] = df_both_acc['model'].str.replace(\"3D CNN +\", \"\")\n",
    "df_both_acc['model'] = df_both_acc['model'].str.replace(\"BASELINE\", \"2D ResNet18\")"
   ]
  },
  {
   "cell_type": "code",
   "execution_count": null,
   "id": "8f0320fd",
   "metadata": {},
   "outputs": [],
   "source": [
    "# CHATII <3\n",
    "\n",
    "results_summary = df_both_acc.groupby(['radiomics', 'model'])['value'].agg(['mean', 'std']).reset_index()\n",
    "\n",
    "results_summary['mean'] = results_summary['mean'].round(2)\n",
    "results_summary['std'] = results_summary['std'].round(2)\n",
    "\n",
    "print(results_summary)\n"
   ]
  },
  {
   "cell_type": "code",
   "execution_count": null,
   "id": "c7e085b7",
   "metadata": {},
   "outputs": [],
   "source": [
    "fig = plt.figure(figsize=(8, 5))\n",
    "\n",
    "# Create the barplot with SD error bars\n",
    "sns.barplot(\n",
    "    data=df_both_acc,\n",
    "    x='model',\n",
    "    y='value',\n",
    "    hue='radiomics',\n",
    "    palette='Reds',\n",
    "    estimator=np.mean,\n",
    "    err_kws={\"color\": \"0\", \"linewidth\": 1.5},\n",
    "    width=0.7,\n",
    "    errorbar=\"sd\", capsize=.1,\n",
    "    linewidth=1.5, edgecolor=\"0\",\n",
    ")\n",
    "\n",
    "\n",
    "#plt.xticks(rotation=45)\n",
    "plt.ylabel(\"Accuracy\")\n",
    "plt.xlabel(\"Classification Models\")\n",
    "plt.title(\"10-Fold CV Accuracies With drsbru and drsprg Data\")\n",
    "plt.legend(title=\"Radiomic Features\")\n",
    "plt.grid()\n",
    "plt.tight_layout()\n",
    "plt.savefig('both_accuracy.pdf', bbox_inches='tight')\n",
    "plt.show()"
   ]
  },
  {
   "cell_type": "code",
   "execution_count": null,
   "id": "8dd7e4c0",
   "metadata": {},
   "outputs": [],
   "source": [
    "reader = SummaryReader(\"C:/Users/mlovh/OneDrive/Dokumenter/V2025/AI_kidney_diagnosis_assistant\\ML/classification/results\\cnnweak_['drsprg', 'drsbru']_20250507-205216\")\n",
    "df_both_pr = reader.text"
   ]
  },
  {
   "cell_type": "code",
   "execution_count": null,
   "id": "80320a60",
   "metadata": {},
   "outputs": [],
   "source": [
    "df_both_pr.head(30)"
   ]
  },
  {
   "cell_type": "code",
   "execution_count": null,
   "id": "0ec285af",
   "metadata": {},
   "outputs": [],
   "source": [
    "#df_both_pr['tag'] = df_both_pr['tag'].str.replace('acc', '')\n",
    "df_both_pr['radiomics'] = df_both_pr['tag'].str.contains(r'RADIOMICS|rad').map({True: 'True', False: 'False'})\n",
    "df_both_pr['precision'] = df_both_pr['tag'].str.contains(r'precision').map({True: 'True', False: 'False'})\n",
    "df_both_pr['model'] = df_both_pr['tag'].str.replace(r'RADIOMICS|rad|precision|recall', '', regex=True)\n",
    "df_both_pr['model'] = df_both_pr['model'].str.replace(r'(B3D CNN \\+|3D CNN \\+)', '', regex=True)\n",
    "df_both_pr['model'] = df_both_pr['model'].str.strip()"
   ]
  },
  {
   "cell_type": "code",
   "execution_count": null,
   "id": "aa558347",
   "metadata": {},
   "outputs": [],
   "source": [
    "df_both_pr.head(40)"
   ]
  },
  {
   "cell_type": "code",
   "execution_count": null,
   "id": "9da22bdc",
   "metadata": {},
   "outputs": [],
   "source": [
    "## FILTER MODELS\n",
    "models_include = [\"Baseline\", \"Ensemble\", \"NN\"]\n",
    "df_both_pr = df_both_pr[\n",
    "    (df_both_pr['radiomics'] == 'False') &\n",
    "    (df_both_pr['model'].isin(models_include))\n",
    "]"
   ]
  },
  {
   "cell_type": "code",
   "execution_count": null,
   "id": "5c46099f",
   "metadata": {},
   "outputs": [],
   "source": [
    "df_both_pr.head(50)"
   ]
  },
  {
   "cell_type": "code",
   "execution_count": null,
   "id": "5ed1c775",
   "metadata": {},
   "outputs": [],
   "source": [
    "#df_both_pr['model'] = df_both_pr['model'].str.replace(\"B3D CNN + NN\", \"Baseline\") # hva er b3d cnn?\n",
    "#df_both_pr['model'] = df_both_pr['model'].str.replace(\"3D CNN +\", \"\")\n",
    "df_both_pr['value'] = (\n",
    "    df_both_pr['value']\n",
    "    .str.replace(r'[\\[\\]]', '', regex=True)  \n",
    "    .str.replace(r'\\s{2,}', ' ', regex=True)    \n",
    "    .str.strip()                               \n",
    ")\n",
    "df_both_pr[['1', '2', '3', '4', '5']] = df_both_pr['value'].str.split(\" \", expand=True).astype(float)"
   ]
  },
  {
   "cell_type": "code",
   "execution_count": null,
   "id": "278e8a44",
   "metadata": {},
   "outputs": [],
   "source": [
    "df_grouped = (\n",
    "    df_both_pr\n",
    "    .groupby(['radiomics', 'precision', 'model'])[['1', '2', '3', '4', '5']]\n",
    "    .mean()\n",
    "    .round(2)         \n",
    "    .reset_index()\n",
    ")\n"
   ]
  },
  {
   "cell_type": "code",
   "execution_count": null,
   "id": "8f27876f",
   "metadata": {},
   "outputs": [],
   "source": [
    "df_grouped.head(10)"
   ]
  }
 ],
 "metadata": {
  "kernelspec": {
   "display_name": "AI-diagnostic",
   "language": "python",
   "name": "python3"
  },
  "language_info": {
   "codemirror_mode": {
    "name": "ipython",
    "version": 3
   },
   "file_extension": ".py",
   "mimetype": "text/x-python",
   "name": "python",
   "nbconvert_exporter": "python",
   "pygments_lexer": "ipython3",
   "version": "3.9.21"
  }
 },
 "nbformat": 4,
 "nbformat_minor": 5
}
