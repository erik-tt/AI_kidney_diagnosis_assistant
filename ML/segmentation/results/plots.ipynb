{
 "cells": [
  {
   "cell_type": "code",
   "execution_count": null,
   "metadata": {},
   "outputs": [],
   "source": [
    "import seaborn as sns\n",
    "import matplotlib.pyplot as plt\n",
    "import pandas as pd\n",
    "import numpy as np\n",
    "from scipy import stats\n",
    "from statsmodels.stats.anova import AnovaRM\n",
    "import statsmodels.api as sm \n",
    "import pingouin as pg"
   ]
  },
  {
   "cell_type": "markdown",
   "metadata": {},
   "source": [
    "# Plotting the results from 10 fold CV to use in thesis"
   ]
  },
  {
   "cell_type": "code",
   "execution_count": null,
   "metadata": {},
   "outputs": [],
   "source": [
    "dice_scores = pd.DataFrame({\n",
    "   \"Baseline\" : [.895, .8723, .9172, .8805, .9027, .8964, .8742, .9249, .8995, .924], \n",
    "    \"Enhanced UNet\" : [.9137, .8689, .9159, .8948, .9054, .9085, .8749, .9141, .8967, .9303],\n",
    "    \"ResUNet\": [.8815, .8839, .922, .887, .9148, .9031, .8918, .9312, .9155, .9315],\n",
    "    \"AttentionUNet\": [.8932, .8866, .9293, .8999, .9134, .9112, .8928, .925, .9135, .9384],\n",
    "    \"Swin-UNETR\": [.9142, .8894, .9323, .8969, .9326, .9023, .8995, .936, .9213, .9421],\n",
    "    \"UNETR\":[.858, .8831, .9168, .8916, .909, .8954, .8816, .9212, .8973, .925]\n",
    "})\n",
    "\n",
    "iou = pd.DataFrame({\n",
    "   \"Baseline\" : [.818, .7833, .8487, .8005, .8253, .8201, .7981, .8609, .8235, .8597],\n",
    "    \"Enhanced UNet\" : [.8463, .7811, .8462, .8196, .8302, .8374, .7916, .844, .8185, .8702],\n",
    "    \"ResUNet\": [.8056, .8053, .8575, .8105, .846, .8333, .818, .8721, .8485, .8739], \n",
    "    \"AttentionUNet\": [.8179, .8065, .869, .8289, .8431, .8433, .8244, .8625, .846, .8847], \n",
    "    \"Swin-UNETR\": [.8496, .8125, .8743, .825, .8748, .8303, .8281, .8803, .8588, .891], \n",
    "    \"UNETR\":[.7715, .8002, .8488, .8136, .835, .8193, .801, .8561, .8212, .8623]\n",
    "})\n",
    "\n",
    "precision = pd.DataFrame({\n",
    "   \"Baseline\" : [.8652, .9003, .9052, .8893, .9092, .939, .9095, .9401, .8956, .946], \n",
    "    \"Enhanced UNet\" : [.8997, .8903, .9011, .9133, .9244, .9423, .9221, .919, .8866, .9409], \n",
    "    \"ResUNet\": [.8512, .8823, .9008, .9035, .9057, .9269, .9092, .9256, .9184, .918], \n",
    "    \"AttentionUNet\": [.8725, .8954, .914, .9289, .903, .935, .924, .9156, .9073, .9366], \n",
    "    \"Swin-UNETR\": [.8948, .9081, .9189, .915, .9479, .9538, .9395, .9483, .9206, .9454], \n",
    "    \"UNETR\":[.8252, .8719, .9065, .8792, .9126, .9446, .9508, .9345, .896, .9082] \n",
    "})\n",
    "\n",
    "recall = pd.DataFrame({\n",
    "   \"Baseline\" : [.9484, .8439, .942, .8877, .9041, .8645, .8586, .9138, .9238, .9067], \n",
    "    \"Enhanced UNet\" : [.9467, .8518, .943, .8924, .8984, .8804, .8442, .9123, .9286, .923], \n",
    "    \"ResUNet\": [.9392, .8793, .9548, .8907, .9294, .8805, .8708, .9391, .9294, .9463],\n",
    "    \"AttentionUNet\": [.9416, .8734, .9561, .8888, .9305, .8902, .8592, .9361, .9385, .942], \n",
    "    \"Swin-UNETR\": [.9562, .8623, .9562, .9016, .9213, .8559, .8617, .9247, .9381, .9422],\n",
    "    \"UNETR\":[.9334, .9015, .9373, .9206, .9078, .8518, .8257, .9038, .9217, .945]\n",
    "})\n",
    "\n",
    "comp_time_iteration = pd.DataFrame({\n",
    "   \"Baseline\" : [], \n",
    "    \"Enhanced UNet\" : [], \n",
    "    \"ResUNet\": [], \n",
    "    \"AttentionUNet\": [], \n",
    "    \"Swin-UNETR\": [], \n",
    "    \"UNETR\":[] \n",
    "})"
   ]
  },
  {
   "cell_type": "code",
   "execution_count": null,
   "metadata": {},
   "outputs": [],
   "source": [
    "#Add the folds\n",
    "dice_scores['Fold'] = [f'Fold_{i+1}' for i in range(10)]\n",
    "iou['Fold'] = [f'Fold_{i+1}' for i in range(10)]\n",
    "precision['Fold'] = [f'Fold_{i+1}' for i in range(10)]\n",
    "recall['Fold'] = [f'Fold_{i+1}' for i in range(10)]"
   ]
  },
  {
   "cell_type": "code",
   "execution_count": null,
   "metadata": {},
   "outputs": [],
   "source": [
    "#model to get stats from:\n",
    "model = \"UNETR\"\n",
    "\n",
    "print(\"Precision\")\n",
    "print(f\"{precision[model].mean():.3f} +- {precision[model].std():.3f}\")\n",
    "print(\"\\n\")\n",
    "print(\"Recall\")\n",
    "print(f\"{recall[model].mean():.3f} +- {recall[model].std():.3f}\")\n",
    "print(\"\\n\")\n",
    "print(\"IoU\")\n",
    "print(f\"{iou[model].mean():.3f} +- {iou[model].std():.3f}\")\n",
    "print(\"\\n\")\n",
    "print(\"Dice Scores\")\n",
    "print(f\"{dice_scores[model].mean():.3f} +- {dice_scores[model].std():.3f}\")\n",
    "print(\"\\n\")\n",
    "\n"
   ]
  },
  {
   "cell_type": "markdown",
   "metadata": {},
   "source": [
    "## Violine plot"
   ]
  },
  {
   "cell_type": "code",
   "execution_count": null,
   "metadata": {},
   "outputs": [],
   "source": [
    "fig = plt.figure(figsize=(8, 5))\n",
    "sns.violinplot(data=dice_scores)\n",
    "plt.title(\"10-Fold CV Dice Scores\")\n",
    "plt.ylabel(\"Validation Dice Score\")\n",
    "plt.xlabel(\"Model\")\n",
    "plt.grid()\n",
    "plt.show()"
   ]
  },
  {
   "cell_type": "markdown",
   "metadata": {},
   "source": []
  },
  {
   "cell_type": "markdown",
   "metadata": {},
   "source": [
    "## Checking for normally distributed data\n",
    "Using Shapiro wilk test. p>0.05 indicate normal distribution\n",
    "\n"
   ]
  },
  {
   "cell_type": "code",
   "execution_count": null,
   "metadata": {},
   "outputs": [],
   "source": [
    "for model in dice_scores.loc[:, dice_scores.columns != \"Fold\"]:\n",
    "    result = stats.shapiro(dice_scores[model])\n",
    "    print(model)\n",
    "    print(result)\n"
   ]
  },
  {
   "cell_type": "markdown",
   "metadata": {},
   "source": [
    "Using QQ plots for visual representation"
   ]
  },
  {
   "cell_type": "code",
   "execution_count": null,
   "metadata": {},
   "outputs": [],
   "source": [
    "fig, axes = plt.subplots(2, 3, figsize=(15, 10))\n",
    "axes = axes.flatten()\n",
    "for i in range(6):\n",
    "        model = dice_scores.columns[i]\n",
    "        stats.probplot(dice_scores[model], dist=\"norm\", plot=axes[i])\n",
    "        axes[i].set_title(f\"Q-Q Plot: {model}\")\n",
    "plt.tight_layout()"
   ]
  },
  {
   "cell_type": "markdown",
   "metadata": {},
   "source": [
    "## RM ANOVA test"
   ]
  },
  {
   "cell_type": "code",
   "execution_count": null,
   "metadata": {},
   "outputs": [],
   "source": [
    "dice_scores_long = dice_scores.melt(id_vars=['Fold'], var_name='Model', value_name='Dice Score')\n",
    "rm_anova = pg.rm_anova(dice_scores_long, dv='Dice Score', subject='Fold', within=['Model'], correction=True)\n",
    "print(rm_anova)"
   ]
  }
 ],
 "metadata": {
  "kernelspec": {
   "display_name": "AI-diagnostic",
   "language": "python",
   "name": "python3"
  },
  "language_info": {
   "codemirror_mode": {
    "name": "ipython",
    "version": 3
   },
   "file_extension": ".py",
   "mimetype": "text/x-python",
   "name": "python",
   "nbconvert_exporter": "python",
   "pygments_lexer": "ipython3",
   "version": "3.9.21"
  }
 },
 "nbformat": 4,
 "nbformat_minor": 2
}
